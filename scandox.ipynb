{
 "cells": [
  {
   "cell_type": "code",
   "execution_count": 1,
   "metadata": {},
   "outputs": [],
   "source": [
    "import cv2\n",
    "import numpy as np\n",
    "import matplotlib.pyplot as plt\n",
    "import imutils\n",
    "from skimage.segmentation import clear_border\n",
    "import pytesseract\n",
    "from pytesseract import Output\n",
    "import cv2\n"
   ]
  },
  {
   "cell_type": "code",
   "execution_count": 2,
   "metadata": {},
   "outputs": [
    {
     "name": "stdout",
     "output_type": "stream",
     "text": [
      "Using matplotlib backend: Qt5Agg\n"
     ]
    }
   ],
   "source": [
    "%matplotlib auto"
   ]
  },
  {
   "cell_type": "code",
   "execution_count": 3,
   "metadata": {},
   "outputs": [],
   "source": [
    "cv2.namedWindow(\"output\", cv2.WINDOW_NORMAL)  "
   ]
  },
  {
   "cell_type": "code",
   "execution_count": 63,
   "metadata": {},
   "outputs": [],
   "source": [
    "img=cv2.imread(r\"C:\\Users\\dhruv\\Downloads\\g2.png\")"
   ]
  },
  {
   "cell_type": "code",
   "execution_count": 64,
   "metadata": {},
   "outputs": [],
   "source": [
    "cv2.imshow(\"img\",img)"
   ]
  },
  {
   "cell_type": "code",
   "execution_count": 10,
   "metadata": {},
   "outputs": [],
   "source": [
    "img=cv2.resize(img,(400,600))"
   ]
  },
  {
   "cell_type": "code",
   "execution_count": 11,
   "metadata": {},
   "outputs": [],
   "source": [
    "orig=img.copy()"
   ]
  },
  {
   "cell_type": "code",
   "execution_count": 12,
   "metadata": {},
   "outputs": [],
   "source": [
    "ratio=img.shape[0]/300.0"
   ]
  },
  {
   "cell_type": "code",
   "execution_count": 16,
   "metadata": {},
   "outputs": [],
   "source": [
    "img_grey = cv2.cvtColor(img, cv2.COLOR_BGR2GRAY) \n",
    "cv2.imshow('edg', img_grey) "
   ]
  },
  {
   "cell_type": "code",
   "execution_count": 17,
   "metadata": {},
   "outputs": [],
   "source": [
    "img_blur = cv2.GaussianBlur(img_grey,(7,7),0)\n",
    "cv2.imshow('edg', img_blur) "
   ]
  },
  {
   "cell_type": "code",
   "execution_count": 18,
   "metadata": {},
   "outputs": [],
   "source": [
    "img_edge=cv2.Canny(img_blur,28,48)\n",
    "cv2.imshow('edg', img_edge) "
   ]
  },
  {
   "cell_type": "code",
   "execution_count": 19,
   "metadata": {},
   "outputs": [],
   "source": [
    "cnts,hier=cv2.findContours(img_edge,cv2.RETR_LIST,cv2.CHAIN_APPROX_SIMPLE)\n",
    "cnts=sorted(cnts,key=cv2.contourArea,reverse=True)"
   ]
  },
  {
   "cell_type": "code",
   "execution_count": 20,
   "metadata": {},
   "outputs": [],
   "source": [
    "for c in cnts:\n",
    "    cnt_peri= cv2.arcLength(c,True)\n",
    "    c_approx=cv2.approxPolyDP(c,0.02*cnt_peri,True)\n",
    "    \n",
    "    if len(c_approx)==4:\n",
    "        selected_window = c_approx\n",
    "        break\n",
    "        "
   ]
  },
  {
   "cell_type": "code",
   "execution_count": 30,
   "metadata": {},
   "outputs": [
    {
     "data": {
      "text/plain": [
       "-1"
      ]
     },
     "execution_count": 30,
     "metadata": {},
     "output_type": "execute_result"
    }
   ],
   "source": [
    "cv2.drawContours(img, [selected_window], -1, (0, 255, 0), 3)\n",
    "cv2.imshow(\"Game Boy Screen\", img)\n",
    "cv2.waitKey(0)"
   ]
  },
  {
   "cell_type": "code",
   "execution_count": 21,
   "metadata": {},
   "outputs": [],
   "source": [
    "def find_sheet_end_point(window):\n",
    "    window = window.reshape(4,2)\n",
    "    new_window = np.zeros((4,2),dtype=np.float32)\n",
    "    \n",
    "    add = window.sum(axis=1)\n",
    "    diff = np.diff(window,axis=1)\n",
    "    \n",
    "    new_window[0] = window[np.argmin(add)]\n",
    "    new_window[1] = window[np.argmin(diff)]\n",
    "    new_window[2] = window[np.argmax(add)]\n",
    "    new_window[3] = window[np.argmax(diff)]\n",
    "    \n",
    "    #new_window*=ratio\n",
    "    return new_window"
   ]
  },
  {
   "cell_type": "code",
   "execution_count": 22,
   "metadata": {},
   "outputs": [],
   "source": [
    "c_approx = find_sheet_end_point(selected_window)\n"
   ]
  },
  {
   "cell_type": "code",
   "execution_count": 23,
   "metadata": {},
   "outputs": [],
   "source": [
    "(tl, tr, br, bl) = c_approx\n",
    "\n"
   ]
  },
  {
   "cell_type": "code",
   "execution_count": 24,
   "metadata": {},
   "outputs": [],
   "source": [
    "widthA = np.sqrt(((br[0] - bl[0]) ** 2) + ((br[1] - bl[1]) ** 2))\n",
    "widthB = np.sqrt(((tr[0] - tl[0]) ** 2) + ((tr[1] - tl[1]) ** 2))"
   ]
  },
  {
   "cell_type": "code",
   "execution_count": 25,
   "metadata": {},
   "outputs": [],
   "source": [
    "heightA = np.sqrt(((tr[0] - br[0]) ** 2) + ((tr[1] - br[1]) ** 2))\n",
    "heightB = np.sqrt(((tl[0] - bl[0]) ** 2) + ((tl[1] - bl[1]) ** 2))"
   ]
  },
  {
   "cell_type": "code",
   "execution_count": 26,
   "metadata": {},
   "outputs": [],
   "source": [
    "maxWidth = max(int(widthA), int(widthB))\n",
    "maxHeight = max(int(heightA), int(heightB))\n"
   ]
  },
  {
   "cell_type": "code",
   "execution_count": 27,
   "metadata": {},
   "outputs": [],
   "source": [
    "dst = np.array([\n",
    "\t[0, 0],\n",
    "\t[maxWidth - 1, 0],\n",
    "\t[maxWidth - 1, maxHeight - 1],\n",
    "\t[0, maxHeight - 1]], dtype = \"float32\")\n"
   ]
  },
  {
   "cell_type": "code",
   "execution_count": 28,
   "metadata": {},
   "outputs": [],
   "source": [
    "M = cv2.getPerspectiveTransform(c_approx, dst)\n",
    "warp = cv2.warpPerspective(orig, M, (maxWidth, maxHeight))"
   ]
  },
  {
   "cell_type": "code",
   "execution_count": 29,
   "metadata": {},
   "outputs": [],
   "source": [
    "cv2.imshow(\"persp\",warp)"
   ]
  },
  {
   "cell_type": "code",
   "execution_count": 20,
   "metadata": {},
   "outputs": [],
   "source": [
    "orig=warp.copy()"
   ]
  },
  {
   "cell_type": "code",
   "execution_count": 65,
   "metadata": {},
   "outputs": [],
   "source": [
    "img_grey = cv2.cvtColor(img, cv2.COLOR_BGR2GRAY) \n",
    "  \n",
    "cv2.imshow('Grayscale', img_grey) "
   ]
  },
  {
   "cell_type": "code",
   "execution_count": 66,
   "metadata": {},
   "outputs": [],
   "source": [
    "ret, img_thresh = cv2.threshold(img_grey, 135, 255, cv2.THRESH_BINARY) \n",
    "\n",
    "cv2.imshow('Binary Threshold', img_thresh) "
   ]
  },
  {
   "cell_type": "code",
   "execution_count": 76,
   "metadata": {},
   "outputs": [],
   "source": [
    "img_blur = cv2.GaussianBlur(img_grey,(7,7),0)\n",
    "cv2.imshow('Blur', img_blur) "
   ]
  },
  {
   "cell_type": "code",
   "execution_count": 77,
   "metadata": {},
   "outputs": [],
   "source": [
    "kernel = np.ones((5,5),np.uint8)"
   ]
  },
  {
   "cell_type": "code",
   "execution_count": 78,
   "metadata": {},
   "outputs": [],
   "source": [
    "img_er = cv2.erode(img_blur,kernel,iterations = 1)\n",
    "cv2.imshow(\"Erosion\",img_er)\n",
    "\n"
   ]
  },
  {
   "cell_type": "code",
   "execution_count": 87,
   "metadata": {},
   "outputs": [],
   "source": [
    "rectKernel = cv2.getStructuringElement(cv2.MORPH_RECT, (12, 4))\n",
    "sqKernel = cv2.getStructuringElement(cv2.MORPH_RECT, (5,5))\n"
   ]
  },
  {
   "cell_type": "code",
   "execution_count": 88,
   "metadata": {},
   "outputs": [],
   "source": [
    "tophat = cv2.morphologyEx(img_er, cv2.MORPH_BLACKHAT, rectKernel)\n",
    "cv2.imshow(\"morph\",tophat)"
   ]
  },
  {
   "cell_type": "code",
   "execution_count": 89,
   "metadata": {},
   "outputs": [],
   "source": [
    "gradX = cv2.Sobel(tophat, ddepth=cv2.CV_32F, dx=1, dy=0,ksize=5)\n",
    "gradX = np.absolute(gradX)\n",
    "(minVal, maxVal) = (np.min(gradX), np.max(gradX))\n",
    "gradX = (255 * ((gradX - minVal) / (maxVal - minVal)))\n",
    "gradX = gradX.astype(\"uint8\")\n",
    "cv2.imshow(\"grad\",gradX)"
   ]
  },
  {
   "cell_type": "code",
   "execution_count": 90,
   "metadata": {},
   "outputs": [],
   "source": [
    "gradX = cv2.morphologyEx(gradX, cv2.MORPH_CLOSE, rectKernel)\n",
    "thresh = cv2.threshold(gradX, 0, 255,cv2.THRESH_BINARY | cv2.THRESH_OTSU)[1]\n",
    "thresh = cv2.morphologyEx(thresh, cv2.MORPH_CLOSE, sqKernel)\n",
    "cv2.imshow(\"r\",thresh)"
   ]
  },
  {
   "cell_type": "code",
   "execution_count": 74,
   "metadata": {},
   "outputs": [],
   "source": [
    "cnts = cv2.findContours(thresh.copy(),cv2.RETR_EXTERNAL,cv2.CHAIN_APPROX_SIMPLE)\n",
    "cnts = imutils.grab_contours(cnts)\n",
    "#cnts.sort(key=lambda x:get_contour_precedence(x, img.shape[1]))\n",
    "locs = []"
   ]
  },
  {
   "cell_type": "code",
   "execution_count": 75,
   "metadata": {},
   "outputs": [
    {
     "name": "stdout",
     "output_type": "stream",
     "text": [
      "[]\n"
     ]
    }
   ],
   "source": [
    "for (i, c) in enumerate(cnts):\n",
    "\t# compute the bounding box of the contour, then use the\n",
    "\t# bounding box coordinates to derive the aspect ratio\n",
    "\t(x, y, w, h) = cv2.boundingRect(c)\n",
    "\tif (w > 30) and (h > 20)and(h<50):\n",
    "         locs.append((x, y, w, h))\n",
    "print(locs)\n",
    "       \n"
   ]
  },
  {
   "cell_type": "code",
   "execution_count": 62,
   "metadata": {},
   "outputs": [
    {
     "data": {
      "text/plain": [
       "-1"
      ]
     },
     "execution_count": 62,
     "metadata": {},
     "output_type": "execute_result"
    }
   ],
   "source": [
    "for l in locs:\n",
    "    x, y, w, h = l\n",
    "    cv2.rectangle(orig, (x-5, y-5), (x+w+5,y+h+5), (50, 50, 255), 2)\n",
    "    \n",
    "#for i in range(len(locs)):\n",
    "    #img = cv2.putText(img, str(i), cv2.boundingRect(locs[i])[:2], cv2.FONT_HERSHEY_COMPLEX, 1, [125])\n",
    "cv2.imshow('img', orig)\n",
    "cv2.waitKey(0)"
   ]
  },
  {
   "cell_type": "code",
   "execution_count": 32,
   "metadata": {},
   "outputs": [],
   "source": [
    "pytesseract.pytesseract.tesseract_cmd = r'C:\\Program Files\\Tesseract-OCR\\tesseract.exe'"
   ]
  },
  {
   "cell_type": "code",
   "execution_count": 46,
   "metadata": {},
   "outputs": [],
   "source": [
    "\n",
    "\n",
    "d = pytesseract.image_to_data(img, output_type=Output.DICT)\n",
    "n_boxes = len(d['level'])\n",
    "for i in range(n_boxes):\n",
    "    (x, y, w, h) = (d['left'][i], d['top'][i], d['width'][i], d['height'][i])    \n",
    "    img = cv2.rectangle(img, (x, y), (x + w, y + h), (0, 0, 255), 2)\n",
    "\n",
    "cv2.imshow('img',img)"
   ]
  },
  {
   "cell_type": "code",
   "execution_count": 43,
   "metadata": {},
   "outputs": [],
   "source": [
    "tessdata_dir_config = \"/usr/share/tesseract-ocr/4.00/tessdata\"\n",
    "extracted_text = pytesseract.image_to_string(img,config=tessdata_dir_config)"
   ]
  },
  {
   "cell_type": "code",
   "execution_count": 44,
   "metadata": {},
   "outputs": [],
   "source": [
    "extracted_text = pytesseract.image_to_string(img)"
   ]
  },
  {
   "cell_type": "code",
   "execution_count": 153,
   "metadata": {},
   "outputs": [],
   "source": [
    "cv2.imshow(\"img\",img_thresh)"
   ]
  },
  {
   "cell_type": "code",
   "execution_count": 45,
   "metadata": {},
   "outputs": [
    {
     "name": "stdout",
     "output_type": "stream",
     "text": [
      "Text Message\n",
      "Today 15:46\n",
      "\n",
      "Its Emma. | tried to call you but\n",
      "signal bad. | been taken to\n",
      "hospital after having a fall this\n",
      "morning. If possible can you do\n",
      "me a quick favour and text me x\n",
      "\f",
      "\n"
     ]
    }
   ],
   "source": [
    "print(extracted_text)"
   ]
  },
  {
   "cell_type": "code",
   "execution_count": null,
   "metadata": {},
   "outputs": [],
   "source": [
    "kernel = np.ones((7,7),np.uint8)"
   ]
  },
  {
   "cell_type": "code",
   "execution_count": null,
   "metadata": {},
   "outputs": [],
   "source": [
    "img_er = cv2.erode(img_blur,kernel,iterations = 1)\n",
    "cv2.imshow(\"Erosion\",img_er)"
   ]
  },
  {
   "cell_type": "code",
   "execution_count": null,
   "metadata": {},
   "outputs": [],
   "source": [
    "rectKernel = cv2.getStructuringElement(cv2.MORPH_RECT, (18, 6))\n",
    "sqKernel = cv2.getStructuringElement(cv2.MORPH_RECT, (3,3))"
   ]
  },
  {
   "cell_type": "code",
   "execution_count": null,
   "metadata": {},
   "outputs": [],
   "source": [
    "tophat = cv2.morphologyEx(img_er, cv2.MORPH_BLACKHAT, rectKernel)\n",
    "#cv2.imshow(\"morph\",tophat)"
   ]
  },
  {
   "cell_type": "code",
   "execution_count": null,
   "metadata": {},
   "outputs": [],
   "source": [
    "gradX = cv2.Sobel(tophat, ddepth=cv2.CV_32F, dx=1, dy=0,ksize=5)\n",
    "gradX = np.absolute(gradX)\n",
    "(minVal, maxVal) = (np.min(gradX), np.max(gradX))\n",
    "gradX = (255 * ((gradX - minVal) / (maxVal - minVal)))\n",
    "gradX = gradX.astype(\"uint8\")\n",
    "#cv2.imshow(\"grad\",gradX)"
   ]
  },
  {
   "cell_type": "code",
   "execution_count": null,
   "metadata": {},
   "outputs": [],
   "source": [
    "gradX = cv2.morphologyEx(gradX, cv2.MORPH_CLOSE, rectKernel)\n",
    "thresh = cv2.threshold(gradX, 0, 255,cv2.THRESH_BINARY | cv2.THRESH_OTSU)[1]\n",
    "thresh = cv2.morphologyEx(thresh, cv2.MORPH_CLOSE, sqKernel)\n",
    "cv2.imshow(\"r\",thresh)"
   ]
  },
  {
   "cell_type": "code",
   "execution_count": null,
   "metadata": {},
   "outputs": [],
   "source": [
    "# find contours in the thresholded image, then initialize the\n",
    "# list of digit locations\n",
    "cnts = cv2.findContours(thresh.copy(),cv2.RETR_EXTERNAL,cv2.CHAIN_APPROX_SIMPLE)\n",
    "cnts = imutils.grab_contours(cnts)\n",
    "#cnts.sort(key=lambda x:get_contour_precedence(x, img.shape[1]))\n",
    "locs = []"
   ]
  },
  {
   "cell_type": "code",
   "execution_count": null,
   "metadata": {},
   "outputs": [],
   "source": [
    "# loop over the contours\n",
    "for (i, c) in enumerate(cnts):\n",
    "\t# compute the bounding box of the contour, then use the\n",
    "\t# bounding box coordinates to derive the aspect ratio\n",
    "\t(x, y, w, h) = cv2.boundingRect(c)\n",
    "\tif (w > 70) and (h > 20)and(h<50):\n",
    "\t\t# append the bounding box region of the digits group\n",
    "\t\t# to our locations list\n",
    "\t\tlocs.append((x, y, w, h))"
   ]
  },
  {
   "cell_type": "code",
   "execution_count": null,
   "metadata": {},
   "outputs": [],
   "source": [
    "for l in locs:\n",
    "    x, y, w, h = l\n",
    "    cv2.rectangle(warp, (x-5, y-5), (x+w+5,y+h+5), (50, 50, 255), 2)\n",
    "    \n",
    "#for i in range(len(locs)):\n",
    "    #img = cv2.putText(img, str(i), cv2.boundingRect(locs[i])[:2], cv2.FONT_HERSHEY_COMPLEX, 1, [125])\n",
    "cv2.imshow('img', warp)\n",
    "cv2.waitKey(0)"
   ]
  },
  {
   "cell_type": "code",
   "execution_count": null,
   "metadata": {},
   "outputs": [],
   "source": [
    "pip install imutils\n"
   ]
  },
  {
   "cell_type": "code",
   "execution_count": null,
   "metadata": {},
   "outputs": [],
   "source": []
  }
 ],
 "metadata": {
  "kernelspec": {
   "display_name": "Python 3",
   "language": "python",
   "name": "python3"
  },
  "language_info": {
   "codemirror_mode": {
    "name": "ipython",
    "version": 3
   },
   "file_extension": ".py",
   "mimetype": "text/x-python",
   "name": "python",
   "nbconvert_exporter": "python",
   "pygments_lexer": "ipython3",
   "version": "3.8.5"
  }
 },
 "nbformat": 4,
 "nbformat_minor": 4
}
